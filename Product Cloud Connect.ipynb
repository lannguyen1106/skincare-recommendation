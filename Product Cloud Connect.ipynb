{
 "cells": [
  {
   "cell_type": "code",
   "execution_count": 5,
   "metadata": {},
   "outputs": [],
  },
  {
   "cell_type": "code",
   "execution_count": 9,
   "metadata": {},
   "outputs": [
    {
     "name": "stdout",
     "output_type": "stream",
     "text": [
      "[core]\r\n",
      "account = lannguyen0611@gmail.com\r\n",
      "disable_usage_reporting = true\r\n",
      "project = skincare-recommendation\r\n",
      "\r\n",
      "Your active configuration is: [app-project]\r\n"
     ]
    }
   ],
   "source": [
    "# !gcloud auth login\n",
    "! gcloud config list"
   ]
  },
  {
   "cell_type": "code",
   "execution_count": 10,
   "metadata": {},
   "outputs": [
    {
     "name": "stderr",
     "output_type": "stream",
     "text": [
      "/home/lanng/anaconda3/lib/python3.7/site-packages/google/auth/_default.py:66: UserWarning: Your application has authenticated using end user credentials from Google Cloud SDK. We recommend that most server applications use service accounts instead. If your application continues to use end user credentials from Cloud SDK, you might receive a \"quota exceeded\" or \"API not enabled\" error. For more information about service accounts, see https://cloud.google.com/docs/authentication/\n",
      "  warnings.warn(_CLOUD_SDK_CREDENTIALS_WARNING)\n",
      "/home/lanng/anaconda3/lib/python3.7/site-packages/google/auth/_default.py:66: UserWarning: Your application has authenticated using end user credentials from Google Cloud SDK. We recommend that most server applications use service accounts instead. If your application continues to use end user credentials from Cloud SDK, you might receive a \"quota exceeded\" or \"API not enabled\" error. For more information about service accounts, see https://cloud.google.com/docs/authentication/\n",
      "  warnings.warn(_CLOUD_SDK_CREDENTIALS_WARNING)\n"
     ]
    }
   ],
   "source": [
    "from dataclasses import asdict\n",
    "import os\n",
    "import uuid\n",
    "\n",
    "from google.cloud import firestore\n",
    "\n",
    "BUCKET = os.environ.get('GCS_BUCKET')\n",
    "\n",
    "firestore_client = firestore.Client()"
   ]
  },
  {
   "cell_type": "code",
   "execution_count": 13,
   "metadata": {},
   "outputs": [],
   "source": [
    "from dataclasses import dataclass\n",
    "from typing import List\n",
    "\n",
    "\n",
    "@dataclass\n",
    "class Product:\n",
    "    \"\"\"\n",
    "    Data class for products.\n",
    "    \"\"\"\n",
    "    name: str\n",
    "    description: str\n",
    "    image: str\n",
    "    labels: List[str]\n",
    "    price: float\n",
    "    created_at: int\n",
    "    id: str = None\n",
    "\n",
    "\n",
    "    @staticmethod\n",
    "    def deserialize(document):\n",
    "        \"\"\"\n",
    "        Helper function for parsing a Firestore document to a Product object.\n",
    "\n",
    "        Parameters:\n",
    "           document (DocumentSnapshot): A snapshot of Firestore document.\n",
    "\n",
    "        Output:\n",
    "           A Product object.\n",
    "        \"\"\"\n",
    "        data = document.to_dict()\n",
    "        if data:\n",
    "            return Product(\n",
    "                id=document.id,\n",
    "                name=data.get('name'),\n",
    "                description=data.get('description'),\n",
    "                image=data.get('image'),\n",
    "                labels=data.get('labels'),\n",
    "                price=data.get('price'),\n",
    "                created_at=data.get('created_at')\n",
    "            )\n",
    "\n",
    "        return None"
   ]
  },
  {
   "cell_type": "code",
   "execution_count": 14,
   "metadata": {},
   "outputs": [],
   "source": [
    "def list_products():\n",
    "    \"\"\"\n",
    "    Helper function for listing products.\n",
    "\n",
    "    Parameters:\n",
    "       None.\n",
    "\n",
    "    Output:\n",
    "       A list of Product objects.\n",
    "    \"\"\"\n",
    "\n",
    "    products = firestore_client.collection('products').order_by('created_at').get()\n",
    "    product_list = [Product.deserialize(product) for product in list(products)]\n",
    "    return product_list"
   ]
  },
  {
   "cell_type": "code",
   "execution_count": 15,
   "metadata": {},
   "outputs": [
    {
     "data": {
      "text/plain": [
       "[Product(name='Dermalogica Set', description='Dermalogica set', image='dermalogica.jpg', labels=['dermalogica set'], price=720, created_at=0, id='XO7Qru2eW0nc2cU68PMj')]"
      ]
     },
     "execution_count": 15,
     "metadata": {},
     "output_type": "execute_result"
    }
   ],
   "source": [
    "products = list_products()\n",
    "products"
   ]
  },
  {
   "cell_type": "code",
   "execution_count": null,
   "metadata": {},
   "outputs": [],
   "source": []
  },
  {
   "cell_type": "code",
   "execution_count": null,
   "metadata": {},
   "outputs": [],
   "source": []
  }
 ],
 "metadata": {
  "kernelspec": {
   "display_name": "Python 3",
   "language": "python",
   "name": "python3"
  },
  "language_info": {
   "codemirror_mode": {
    "name": "ipython",
    "version": 3
   },
   "file_extension": ".py",
   "mimetype": "text/x-python",
   "name": "python",
   "nbconvert_exporter": "python",
   "pygments_lexer": "ipython3",
   "version": "3.7.3"
  }
 },
 "nbformat": 4,
 "nbformat_minor": 2
}
